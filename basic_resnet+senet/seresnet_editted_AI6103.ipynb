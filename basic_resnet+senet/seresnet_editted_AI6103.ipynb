{
  "nbformat": 4,
  "nbformat_minor": 0,
  "metadata": {
    "colab": {
      "provenance": [],
      "gpuType": "T4",
      "machine_shape": "hm"
    },
    "kernelspec": {
      "name": "python3",
      "display_name": "Python 3"
    },
    "language_info": {
      "name": "python"
    },
    "accelerator": "GPU"
  },
  "cells": [
    {
      "cell_type": "code",
      "execution_count": null,
      "metadata": {
        "id": "HOsXceG55Z6Z"
      },
      "outputs": [],
      "source": [
        "import torch\n",
        "import torchvision\n",
        "import torchvision.transforms as transforms\n",
        "import pdb\n",
        "\n",
        "from torch import nn"
      ]
    },
    {
      "cell_type": "code",
      "source": [
        "\n",
        "class ResNet50(nn.Module):\n",
        "    def __init__(self, block, num_classes=1000):\n",
        "        super(ResNet50, self).__init__()\n",
        "        self.block = block\n",
        "        self.num_classes = num_classes\n",
        "\n",
        "        self.stage1 = self.stage_input()\n",
        "        self.stage2 = self.stage_blocks(3, 64, 64, stride=1)\n",
        "        self.stage3 = self.stage_blocks(4, 64 * 4, 128, stride=2)\n",
        "        self.stage4 = self.stage_blocks(6, 128 * 4, 256, stride=2)\n",
        "        self.stage5 = self.stage_blocks(3, 256 * 4, 512, stride=2)\n",
        "        self.stage6 = self.stage_output(512 * 4, self.num_classes)\n",
        "\n",
        "    def forward(self, x):\n",
        "        x = self.stage1(x)\n",
        "        x = self.stage2(x)\n",
        "        x = self.stage3(x)\n",
        "        x = self.stage4(x)\n",
        "        x = self.stage5(x)\n",
        "        x = self.stage6(x)\n",
        "        return x\n",
        "\n",
        "    def stage_input(self):\n",
        "        conv = nn.Conv2d(3, 64, kernel_size=7, stride=2, padding=3, bias=False)\n",
        "        bn = nn.BatchNorm2d(64)\n",
        "        relu = nn.ReLU()\n",
        "        pool = nn.MaxPool2d(kernel_size=3, stride=2, padding=1)\n",
        "        return nn.Sequential(conv, bn, relu, pool)\n",
        "\n",
        "    def stage_blocks(self, n, in_channels, out_channels, stride=1):\n",
        "        layers = [self.block(in_channels, out_channels, stride)]\n",
        "        for i in range(n - 1):\n",
        "            layers.append(self.block(out_channels * 4, out_channels))\n",
        "        return nn.Sequential(*layers)\n",
        "\n",
        "    def stage_output(self, in_channels, out_channels, stride=1):\n",
        "        pool = nn.AdaptiveAvgPool2d((1, 1))\n",
        "        flatten = nn.Flatten()\n",
        "        fc = nn.Linear(in_channels, out_channels)\n",
        "        return nn.Sequential(pool, flatten, fc)\n",
        "\n",
        "\n",
        "class ResNetBlock(nn.Module):\n",
        "    def __init__(self, in_channels, out_channels, stride=1):\n",
        "        super(ResNetBlock, self).__init__()\n",
        "\n",
        "        self.conv1 = nn.Conv2d(in_channels, out_channels, kernel_size=1, stride=stride, bias=False)\n",
        "        self.bn1 = nn.BatchNorm2d(out_channels)\n",
        "\n",
        "        self.conv2 = nn.Conv2d(out_channels, out_channels, kernel_size=3, stride=1, padding=1, bias=False)\n",
        "        self.bn2 = nn.BatchNorm2d(out_channels)\n",
        "\n",
        "        self.conv3 = nn.Conv2d(out_channels, out_channels * 4, kernel_size=1, stride=1, bias=False)\n",
        "        self.bn3 = nn.BatchNorm2d(out_channels * 4)\n",
        "\n",
        "        self.relu = nn.ReLU()\n",
        "\n",
        "        self.need_downsample = stride != 1 or in_channels != out_channels * 4\n",
        "        if self.need_downsample:\n",
        "            self.downsample = nn.Sequential(\n",
        "                nn.Conv2d(in_channels, out_channels * 4, kernel_size=1, stride=stride, bias=False),\n",
        "                nn.BatchNorm2d(out_channels * 4)\n",
        "            )\n",
        "        else:\n",
        "            self.downsample = None\n",
        "\n",
        "    def forward(self, x):\n",
        "        identity = x\n",
        "\n",
        "        x = self.relu(self.bn1(self.conv1(x)))\n",
        "        x = self.relu(self.bn2(self.conv2(x)))\n",
        "        x = self.bn3(self.conv3(x))\n",
        "\n",
        "        if self.need_downsample:\n",
        "            identity = self.downsample(identity)\n",
        "\n",
        "        out = x + identity\n",
        "        out = self.relu(out)\n",
        "\n",
        "        return out\n",
        "\n",
        "\n",
        "class SEBlock(nn.Module):\n",
        "    def __init__(self, channel, r):\n",
        "        super().__init__()\n",
        "        reductionChannel = int(channel / r)\n",
        "        self.pool = nn.AdaptiveAvgPool2d((1, 1))\n",
        "        self.fc1 = nn.Linear(channel, reductionChannel)\n",
        "        self.relu = nn.ReLU()\n",
        "        self.fc2 = nn.Linear(reductionChannel, channel)\n",
        "        self.sigmoid = nn.Sigmoid()\n",
        "\n",
        "    def forward(self, x):\n",
        "        # pdb.set_trace()\n",
        "        out = self.pool(x)\n",
        "        batch, channel = out.size(0), out.size(1)\n",
        "        out = out.view(batch, -1)\n",
        "        out = self.fc1(out)\n",
        "        out = self.relu(out)\n",
        "        out = self.fc2(out)\n",
        "        out = out.view(batch, channel, 1, 1)\n",
        "        out = self.sigmoid(out)\n",
        "        return out\n",
        "\n",
        "\n",
        "class SEResNetBlock(nn.Module):\n",
        "    def __init__(self, in_channels, out_channels, stride=1):\n",
        "        super(SEResNetBlock, self).__init__()\n",
        "\n",
        "        self.conv1 = nn.Conv2d(in_channels, out_channels, kernel_size=1, stride=stride, bias=False)\n",
        "        self.bn1 = nn.BatchNorm2d(out_channels)\n",
        "\n",
        "        self.conv2 = nn.Conv2d(out_channels, out_channels, kernel_size=3, stride=1, padding=1, bias=False)\n",
        "        self.bn2 = nn.BatchNorm2d(out_channels)\n",
        "\n",
        "        self.conv3 = nn.Conv2d(out_channels, out_channels * 4, kernel_size=1, stride=1, bias=False)\n",
        "        self.bn3 = nn.BatchNorm2d(out_channels * 4)\n",
        "\n",
        "        self.relu = nn.ReLU()\n",
        "\n",
        "        self.need_downsample = stride != 1 or in_channels != out_channels * 4\n",
        "        if self.need_downsample:\n",
        "            self.downsample = nn.Sequential(\n",
        "                nn.Conv2d(in_channels, out_channels * 4, kernel_size=1, stride=stride, bias=False),\n",
        "                nn.BatchNorm2d(out_channels * 4)\n",
        "            )\n",
        "        else:\n",
        "            self.downsample = None\n",
        "\n",
        "        self.seBlock = SEBlock(out_channels * 4, 1)\n",
        "\n",
        "    def forward(self, x):\n",
        "        identity = x\n",
        "\n",
        "        x = self.relu(self.bn1(self.conv1(x)))\n",
        "        x = self.relu(self.bn2(self.conv2(x)))\n",
        "        x = self.bn3(self.conv3(x))\n",
        "\n",
        "        if self.need_downsample:\n",
        "            identity = self.downsample(identity)\n",
        "\n",
        "        # apply SE\n",
        "        scale = self.seBlock(x)\n",
        "\n",
        "        out = x * scale + identity\n",
        "        out = self.relu(out)\n",
        "\n",
        "        return out"
      ],
      "metadata": {
        "id": "yp4v9Qi0_2GO"
      },
      "execution_count": null,
      "outputs": []
    },
    {
      "cell_type": "code",
      "source": [
        "se_resnet = ResNet50(SEResNetBlock)\n",
        "resnet = ResNet50(ResNetBlock)"
      ],
      "metadata": {
        "id": "rNycjhzGThCv"
      },
      "execution_count": null,
      "outputs": []
    },
    {
      "cell_type": "code",
      "source": [
        "batch_size = 128\n"
      ],
      "metadata": {
        "id": "ur3g2ELBYv1h"
      },
      "execution_count": null,
      "outputs": []
    },
    {
      "cell_type": "code",
      "source": [
        "# Define the data transformations (optional but recommended)\n",
        "# transform = transforms.Compose([\n",
        "#     transforms.ToTensor(),  # Convert images to PyTorch tensors\n",
        "#     transforms.Normalize((0.5, 0.5, 0.5), (0.5, 0.5, 0.5))  # Normalize the pixel values\n",
        "# ])\n",
        "\n",
        "\n",
        "#Other Transforms can be used\n",
        "transform_train = transforms.Compose([\n",
        "    transforms.RandomHorizontalFlip(),\n",
        "    transforms.RandomCrop(32, padding=4),\n",
        "    transforms.ToTensor(),\n",
        "    transforms.Normalize((0.4914, 0.4822, 0.4465), (0.2023, 0.1994, 0.2010)),\n",
        "])\n",
        "\n",
        "transform_test = transforms.Compose([\n",
        "    transforms.ToTensor(),\n",
        "    transforms.Normalize((0.4914, 0.4822, 0.4465), (0.2023, 0.1994, 0.2010)),\n",
        "])\n",
        "\n",
        "\n",
        "\n",
        "# Download CIFAR-10 training dataset\n",
        "train_dataset = torchvision.datasets.CIFAR10(root='./data', train=True, download=True, transform=transform_train)\n",
        "\n",
        "# Download CIFAR-10 testing dataset\n",
        "test_dataset = torchvision.datasets.CIFAR10(root='./data', train=False, download=True, transform=transform_test)\n",
        "\n",
        "# Create data loaders for training and testing datasets\n",
        "train_loader = torch.utils.data.DataLoader(train_dataset, batch_size=batch_size, shuffle=True, num_workers=2)\n",
        "test_loader = torch.utils.data.DataLoader(test_dataset, batch_size=batch_size, shuffle=False, num_workers=2)"
      ],
      "metadata": {
        "colab": {
          "base_uri": "https://localhost:8080/"
        },
        "id": "p8FFk5CNY64k",
        "outputId": "fa2ad062-ea11-48db-aa9f-a5ad68c68dcc"
      },
      "execution_count": null,
      "outputs": [
        {
          "output_type": "stream",
          "name": "stdout",
          "text": [
            "Downloading https://www.cs.toronto.edu/~kriz/cifar-10-python.tar.gz to ./data/cifar-10-python.tar.gz\n"
          ]
        },
        {
          "output_type": "stream",
          "name": "stderr",
          "text": [
            "100%|██████████| 170498071/170498071 [00:02<00:00, 81613015.02it/s]\n"
          ]
        },
        {
          "output_type": "stream",
          "name": "stdout",
          "text": [
            "Extracting ./data/cifar-10-python.tar.gz to ./data\n",
            "Files already downloaded and verified\n"
          ]
        }
      ]
    },
    {
      "cell_type": "code",
      "source": [
        "import torch\n",
        "import numpy as np\n",
        "import random\n"
      ],
      "metadata": {
        "id": "OAhfy72ajV6r"
      },
      "execution_count": null,
      "outputs": []
    },
    {
      "cell_type": "code",
      "source": [
        "seed = 0\n",
        "\n",
        "# Set seed for PyTorch\n",
        "torch.manual_seed(seed)\n",
        "torch.backends.cudnn.deterministic = True\n",
        "torch.backends.cudnn.benchmark = False\n",
        "\n",
        "# Set seed for NumPy\n",
        "np.random.seed(seed)\n",
        "\n",
        "# Set seed for Python's random module\n",
        "random.seed(seed)"
      ],
      "metadata": {
        "id": "x7Xn-ylHiDAl"
      },
      "execution_count": null,
      "outputs": []
    },
    {
      "cell_type": "code",
      "source": [
        "se_resnet = ResNet50(SEResNetBlock)"
      ],
      "metadata": {
        "id": "CopMe5wGiA-_"
      },
      "execution_count": null,
      "outputs": []
    },
    {
      "cell_type": "code",
      "source": [
        "learning_rate = 0.01\n",
        "epochs = 200"
      ],
      "metadata": {
        "id": "hcIM_OHwZTdV"
      },
      "execution_count": null,
      "outputs": []
    },
    {
      "cell_type": "code",
      "source": [
        "optimizer = torch.optim.Adam(se_resnet.parameters(), lr=learning_rate)\n",
        "criterion = nn.CrossEntropyLoss()"
      ],
      "metadata": {
        "id": "y0EzX5awY3Pa"
      },
      "execution_count": null,
      "outputs": []
    },
    {
      "cell_type": "code",
      "source": [
        "device = torch.device(\"cuda\" if torch.cuda.is_available() else \"cpu\")\n",
        "se_resnet = se_resnet.to(device)"
      ],
      "metadata": {
        "id": "TVPG9uy_d-6H"
      },
      "execution_count": null,
      "outputs": []
    },
    {
      "cell_type": "code",
      "source": [
        "# # Training loop\n",
        "# se_resnet.train()\n",
        "# for epoch in range(epochs):\n",
        "#     for images, labels in train_loader:\n",
        "#         images, labels = images.to(device), labels.to(device)\n",
        "#         optimizer.zero_grad()\n",
        "#         outputs = se_resnet(images)\n",
        "#         loss = criterion(outputs, labels)\n",
        "#         loss.backward()\n",
        "#         optimizer.step()\n",
        "#     print(f'Epoch [{epoch+1}/{epochs}], Loss: {loss.item():.4f}')\n",
        "\n",
        "# print('Training finished.')"
      ],
      "metadata": {
        "id": "KxxPPydBL6Ed"
      },
      "execution_count": null,
      "outputs": []
    },
    {
      "cell_type": "code",
      "source": [
        "training_loss = []\n",
        "training_acc = []\n",
        "testing_loss = []\n",
        "testing_acc = []\n",
        "\n",
        "\n",
        "for epoch in range(epochs):\n",
        "  # Training loop\n",
        "  correct_predictions = 0\n",
        "  total_samples = 0\n",
        "  running_loss = 0.0\n",
        "\n",
        "  se_resnet.train()\n",
        "  for images, labels in train_loader:\n",
        "    images, labels = images.to(device), labels.to(device)\n",
        "    #train\n",
        "    optimizer.zero_grad()\n",
        "    outputs = se_resnet(images)\n",
        "    loss = criterion(outputs, labels)\n",
        "    loss.backward()\n",
        "    optimizer.step()\n",
        "\n",
        "    #saving for loss and acc\n",
        "    running_loss += loss.item()\n",
        "    _, predicted = torch.max(outputs, 1)\n",
        "    total_samples += labels.size(0)\n",
        "    correct_predictions += (predicted == labels).sum().item()\n",
        "\n",
        "  training_loss.append(running_loss)\n",
        "  training_acc.append(correct_predictions / total_samples)\n",
        "\n",
        "  # Testing loop\n",
        "  se_resnet.eval()  # Set the model to evaluation mode\n",
        "  correct_predictions = 0\n",
        "  total_samples = 0\n",
        "  running_loss = 0\n",
        "\n",
        "  with torch.no_grad():\n",
        "\n",
        "    for inputs, labels in test_loader:\n",
        "      inputs, labels = inputs.to(device), labels.to(device)\n",
        "\n",
        "      # test\n",
        "      outputs = se_resnet(inputs)\n",
        "      loss = criterion(outputs, labels)\n",
        "\n",
        "      #saving for loss and acc\n",
        "      running_loss += loss.item()\n",
        "      _, predicted = torch.max(outputs, 1)\n",
        "      total_samples += labels.size(0)\n",
        "      correct_predictions += (predicted == labels).sum().item()\n",
        "\n",
        "  testing_loss.append(running_loss)\n",
        "  testing_acc.append(correct_predictions / total_samples)\n",
        "\n",
        "\n",
        "  print(f'Epoch {epoch + 1}/{epochs} - '\n",
        "      f'Train Running Loss: {training_loss[-1]:.4f} - '\n",
        "      f'Test Loss: {testing_loss[-1]:.4f} - '\n",
        "      f'Test Accuracy: {testing_acc[-1]:.4f}')\n",
        "\n",
        "print('Training finished.')"
      ],
      "metadata": {
        "colab": {
          "base_uri": "https://localhost:8080/"
        },
        "id": "AsFbOBYfYRkF",
        "outputId": "822b3106-e674-405d-a7e9-a86b3b20ab52"
      },
      "execution_count": 14,
      "outputs": [
        {
          "output_type": "stream",
          "name": "stdout",
          "text": [
            "Epoch 1/200 - Train Running Loss: 956.5827 - Test Loss: 147.4199 - Test Accuracy: 0.3068\n",
            "Epoch 2/200 - Train Running Loss: 696.7915 - Test Loss: 134.4298 - Test Accuracy: 0.3792\n",
            "Epoch 3/200 - Train Running Loss: 616.9102 - Test Loss: 112.4671 - Test Accuracy: 0.4763\n",
            "Epoch 4/200 - Train Running Loss: 560.8969 - Test Loss: 106.6757 - Test Accuracy: 0.5172\n",
            "Epoch 5/200 - Train Running Loss: 519.9772 - Test Loss: 95.0207 - Test Accuracy: 0.5647\n",
            "Epoch 6/200 - Train Running Loss: 487.9018 - Test Loss: 112.5931 - Test Accuracy: 0.5403\n",
            "Epoch 7/200 - Train Running Loss: 450.4974 - Test Loss: 91.1793 - Test Accuracy: 0.5896\n",
            "Epoch 8/200 - Train Running Loss: 421.7331 - Test Loss: 88.3565 - Test Accuracy: 0.6121\n",
            "Epoch 9/200 - Train Running Loss: 399.3839 - Test Loss: 88.8995 - Test Accuracy: 0.6636\n",
            "Epoch 10/200 - Train Running Loss: 364.7224 - Test Loss: 77.5614 - Test Accuracy: 0.6544\n",
            "Epoch 11/200 - Train Running Loss: 358.0848 - Test Loss: 70.3603 - Test Accuracy: 0.6941\n",
            "Epoch 12/200 - Train Running Loss: 338.9745 - Test Loss: 66.0432 - Test Accuracy: 0.7081\n",
            "Epoch 13/200 - Train Running Loss: 321.2737 - Test Loss: 65.2008 - Test Accuracy: 0.7139\n",
            "Epoch 14/200 - Train Running Loss: 305.2723 - Test Loss: 59.8942 - Test Accuracy: 0.7380\n",
            "Epoch 15/200 - Train Running Loss: 289.7357 - Test Loss: 66.0104 - Test Accuracy: 0.7185\n",
            "Epoch 16/200 - Train Running Loss: 284.3545 - Test Loss: 56.5596 - Test Accuracy: 0.7516\n",
            "Epoch 17/200 - Train Running Loss: 269.5381 - Test Loss: 55.9833 - Test Accuracy: 0.7534\n",
            "Epoch 18/200 - Train Running Loss: 263.4954 - Test Loss: 52.2172 - Test Accuracy: 0.7744\n",
            "Epoch 19/200 - Train Running Loss: 256.3413 - Test Loss: 50.3266 - Test Accuracy: 0.7809\n",
            "Epoch 20/200 - Train Running Loss: 246.4487 - Test Loss: 50.8893 - Test Accuracy: 0.7837\n",
            "Epoch 21/200 - Train Running Loss: 247.7034 - Test Loss: 52.4400 - Test Accuracy: 0.7745\n",
            "Epoch 22/200 - Train Running Loss: 233.6934 - Test Loss: 46.5844 - Test Accuracy: 0.7994\n",
            "Epoch 23/200 - Train Running Loss: 226.9239 - Test Loss: 48.8780 - Test Accuracy: 0.7895\n",
            "Epoch 24/200 - Train Running Loss: 257.0101 - Test Loss: 67.2186 - Test Accuracy: 0.7165\n",
            "Epoch 25/200 - Train Running Loss: 347.5861 - Test Loss: 54.9324 - Test Accuracy: 0.7608\n",
            "Epoch 26/200 - Train Running Loss: 239.7407 - Test Loss: 47.1576 - Test Accuracy: 0.7989\n",
            "Epoch 27/200 - Train Running Loss: 215.3936 - Test Loss: 48.1080 - Test Accuracy: 0.7917\n",
            "Epoch 28/200 - Train Running Loss: 203.7384 - Test Loss: 47.5124 - Test Accuracy: 0.8003\n",
            "Epoch 29/200 - Train Running Loss: 198.5926 - Test Loss: 43.1856 - Test Accuracy: 0.8132\n",
            "Epoch 30/200 - Train Running Loss: 192.8143 - Test Loss: 45.3207 - Test Accuracy: 0.8064\n",
            "Epoch 31/200 - Train Running Loss: 188.2136 - Test Loss: 43.6128 - Test Accuracy: 0.8155\n",
            "Epoch 32/200 - Train Running Loss: 183.1213 - Test Loss: 45.9126 - Test Accuracy: 0.8030\n",
            "Epoch 33/200 - Train Running Loss: 183.9188 - Test Loss: 42.2240 - Test Accuracy: 0.8179\n",
            "Epoch 34/200 - Train Running Loss: 176.2345 - Test Loss: 41.5700 - Test Accuracy: 0.8208\n",
            "Epoch 35/200 - Train Running Loss: 172.5355 - Test Loss: 42.5825 - Test Accuracy: 0.8167\n",
            "Epoch 36/200 - Train Running Loss: 169.0135 - Test Loss: 43.5334 - Test Accuracy: 0.8163\n",
            "Epoch 37/200 - Train Running Loss: 166.4257 - Test Loss: 42.0006 - Test Accuracy: 0.8224\n",
            "Epoch 38/200 - Train Running Loss: 169.0919 - Test Loss: 39.9607 - Test Accuracy: 0.8308\n",
            "Epoch 39/200 - Train Running Loss: 159.5895 - Test Loss: 40.8365 - Test Accuracy: 0.8253\n",
            "Epoch 40/200 - Train Running Loss: 152.6008 - Test Loss: 41.1943 - Test Accuracy: 0.8306\n",
            "Epoch 41/200 - Train Running Loss: 165.9647 - Test Loss: 39.0443 - Test Accuracy: 0.8313\n",
            "Epoch 42/200 - Train Running Loss: 147.6681 - Test Loss: 40.5745 - Test Accuracy: 0.8295\n",
            "Epoch 43/200 - Train Running Loss: 144.5686 - Test Loss: 38.3875 - Test Accuracy: 0.8339\n",
            "Epoch 44/200 - Train Running Loss: 141.1558 - Test Loss: 41.7041 - Test Accuracy: 0.8324\n",
            "Epoch 45/200 - Train Running Loss: 138.9788 - Test Loss: 39.6730 - Test Accuracy: 0.8353\n",
            "Epoch 46/200 - Train Running Loss: 135.7258 - Test Loss: 38.6969 - Test Accuracy: 0.8411\n",
            "Epoch 47/200 - Train Running Loss: 133.2069 - Test Loss: 39.0153 - Test Accuracy: 0.8382\n",
            "Epoch 48/200 - Train Running Loss: 131.4617 - Test Loss: 40.7264 - Test Accuracy: 0.8353\n",
            "Epoch 49/200 - Train Running Loss: 130.6501 - Test Loss: 39.0752 - Test Accuracy: 0.8386\n",
            "Epoch 50/200 - Train Running Loss: 131.1438 - Test Loss: 38.3376 - Test Accuracy: 0.8437\n",
            "Epoch 51/200 - Train Running Loss: 122.8328 - Test Loss: 38.6585 - Test Accuracy: 0.8459\n",
            "Epoch 52/200 - Train Running Loss: 134.1300 - Test Loss: 38.8346 - Test Accuracy: 0.8460\n",
            "Epoch 53/200 - Train Running Loss: 125.4467 - Test Loss: 38.0322 - Test Accuracy: 0.8493\n",
            "Epoch 54/200 - Train Running Loss: 117.0484 - Test Loss: 37.6959 - Test Accuracy: 0.8465\n",
            "Epoch 55/200 - Train Running Loss: 116.6188 - Test Loss: 36.8273 - Test Accuracy: 0.8496\n",
            "Epoch 56/200 - Train Running Loss: 114.4178 - Test Loss: 40.2136 - Test Accuracy: 0.8394\n",
            "Epoch 57/200 - Train Running Loss: 110.5393 - Test Loss: 38.3513 - Test Accuracy: 0.8457\n",
            "Epoch 58/200 - Train Running Loss: 105.3039 - Test Loss: 37.4103 - Test Accuracy: 0.8523\n",
            "Epoch 59/200 - Train Running Loss: 107.0414 - Test Loss: 37.0702 - Test Accuracy: 0.8546\n",
            "Epoch 60/200 - Train Running Loss: 104.7414 - Test Loss: 37.9182 - Test Accuracy: 0.8533\n",
            "Epoch 61/200 - Train Running Loss: 103.3292 - Test Loss: 40.8513 - Test Accuracy: 0.8503\n",
            "Epoch 62/200 - Train Running Loss: 106.6227 - Test Loss: 39.6411 - Test Accuracy: 0.8463\n",
            "Epoch 63/200 - Train Running Loss: 97.3657 - Test Loss: 41.8988 - Test Accuracy: 0.8542\n",
            "Epoch 64/200 - Train Running Loss: 96.1766 - Test Loss: 39.5204 - Test Accuracy: 0.8456\n",
            "Epoch 65/200 - Train Running Loss: 102.1761 - Test Loss: 47.5433 - Test Accuracy: 0.8448\n",
            "Epoch 66/200 - Train Running Loss: 94.2494 - Test Loss: 62.7140 - Test Accuracy: 0.8458\n",
            "Epoch 67/200 - Train Running Loss: 92.9348 - Test Loss: 39.2040 - Test Accuracy: 0.8499\n",
            "Epoch 68/200 - Train Running Loss: 90.3854 - Test Loss: 44.9004 - Test Accuracy: 0.8462\n",
            "Epoch 69/200 - Train Running Loss: 132.9451 - Test Loss: 38.9926 - Test Accuracy: 0.8467\n",
            "Epoch 70/200 - Train Running Loss: 90.8298 - Test Loss: 39.7504 - Test Accuracy: 0.8498\n",
            "Epoch 71/200 - Train Running Loss: 87.2696 - Test Loss: 38.5873 - Test Accuracy: 0.8574\n",
            "Epoch 72/200 - Train Running Loss: 82.8980 - Test Loss: 38.8946 - Test Accuracy: 0.8543\n",
            "Epoch 73/200 - Train Running Loss: 82.0042 - Test Loss: 40.0316 - Test Accuracy: 0.8500\n",
            "Epoch 74/200 - Train Running Loss: 83.2350 - Test Loss: 39.0039 - Test Accuracy: 0.8539\n",
            "Epoch 75/200 - Train Running Loss: 80.3537 - Test Loss: 41.6680 - Test Accuracy: 0.8466\n",
            "Epoch 76/200 - Train Running Loss: 81.3146 - Test Loss: 39.7213 - Test Accuracy: 0.8518\n",
            "Epoch 77/200 - Train Running Loss: 78.4807 - Test Loss: 40.7528 - Test Accuracy: 0.8502\n",
            "Epoch 78/200 - Train Running Loss: 78.0521 - Test Loss: 43.3437 - Test Accuracy: 0.8407\n",
            "Epoch 79/200 - Train Running Loss: 76.1761 - Test Loss: 41.1921 - Test Accuracy: 0.8505\n",
            "Epoch 80/200 - Train Running Loss: 76.3944 - Test Loss: 40.8159 - Test Accuracy: 0.8520\n",
            "Epoch 81/200 - Train Running Loss: 73.2722 - Test Loss: 43.1742 - Test Accuracy: 0.8473\n",
            "Epoch 82/200 - Train Running Loss: 73.1397 - Test Loss: 42.0479 - Test Accuracy: 0.8543\n",
            "Epoch 83/200 - Train Running Loss: 71.7007 - Test Loss: 41.7141 - Test Accuracy: 0.8542\n",
            "Epoch 84/200 - Train Running Loss: 71.2295 - Test Loss: 40.8681 - Test Accuracy: 0.8504\n",
            "Epoch 85/200 - Train Running Loss: 67.6142 - Test Loss: 42.2380 - Test Accuracy: 0.8513\n",
            "Epoch 86/200 - Train Running Loss: 66.2960 - Test Loss: 42.5073 - Test Accuracy: 0.8551\n",
            "Epoch 87/200 - Train Running Loss: 68.5811 - Test Loss: 40.8808 - Test Accuracy: 0.8567\n",
            "Epoch 88/200 - Train Running Loss: 66.6802 - Test Loss: 39.6119 - Test Accuracy: 0.8591\n",
            "Epoch 89/200 - Train Running Loss: 67.4973 - Test Loss: 44.6036 - Test Accuracy: 0.8505\n",
            "Epoch 90/200 - Train Running Loss: 64.3434 - Test Loss: 45.1502 - Test Accuracy: 0.8455\n",
            "Epoch 91/200 - Train Running Loss: 62.7652 - Test Loss: 42.1065 - Test Accuracy: 0.8569\n",
            "Epoch 92/200 - Train Running Loss: 60.6969 - Test Loss: 42.7587 - Test Accuracy: 0.8522\n",
            "Epoch 93/200 - Train Running Loss: 62.0158 - Test Loss: 42.5518 - Test Accuracy: 0.8548\n",
            "Epoch 94/200 - Train Running Loss: 59.4722 - Test Loss: 42.4991 - Test Accuracy: 0.8578\n",
            "Epoch 95/200 - Train Running Loss: 61.8880 - Test Loss: 46.9952 - Test Accuracy: 0.8460\n",
            "Epoch 96/200 - Train Running Loss: 59.2102 - Test Loss: 46.0747 - Test Accuracy: 0.8495\n",
            "Epoch 97/200 - Train Running Loss: 58.9091 - Test Loss: 44.2959 - Test Accuracy: 0.8513\n",
            "Epoch 98/200 - Train Running Loss: 57.1547 - Test Loss: 43.6468 - Test Accuracy: 0.8549\n",
            "Epoch 99/200 - Train Running Loss: 56.3823 - Test Loss: 44.5988 - Test Accuracy: 0.8559\n",
            "Epoch 100/200 - Train Running Loss: 57.0851 - Test Loss: 42.7555 - Test Accuracy: 0.8568\n",
            "Epoch 101/200 - Train Running Loss: 55.9591 - Test Loss: 43.3889 - Test Accuracy: 0.8539\n",
            "Epoch 102/200 - Train Running Loss: 53.1515 - Test Loss: 45.5219 - Test Accuracy: 0.8504\n",
            "Epoch 103/200 - Train Running Loss: 52.8463 - Test Loss: 43.7911 - Test Accuracy: 0.8559\n",
            "Epoch 104/200 - Train Running Loss: 52.1061 - Test Loss: 44.4919 - Test Accuracy: 0.8583\n",
            "Epoch 105/200 - Train Running Loss: 52.3408 - Test Loss: 43.1560 - Test Accuracy: 0.8601\n",
            "Epoch 106/200 - Train Running Loss: 53.2158 - Test Loss: 42.2102 - Test Accuracy: 0.8584\n",
            "Epoch 107/200 - Train Running Loss: 49.8171 - Test Loss: 44.7559 - Test Accuracy: 0.8568\n",
            "Epoch 108/200 - Train Running Loss: 49.5511 - Test Loss: 45.0668 - Test Accuracy: 0.8559\n",
            "Epoch 109/200 - Train Running Loss: 49.8710 - Test Loss: 44.9248 - Test Accuracy: 0.8583\n",
            "Epoch 110/200 - Train Running Loss: 50.7851 - Test Loss: 44.5780 - Test Accuracy: 0.8599\n",
            "Epoch 111/200 - Train Running Loss: 48.7608 - Test Loss: 47.1638 - Test Accuracy: 0.8553\n",
            "Epoch 112/200 - Train Running Loss: 47.7914 - Test Loss: 45.7325 - Test Accuracy: 0.8543\n",
            "Epoch 113/200 - Train Running Loss: 48.5291 - Test Loss: 45.6647 - Test Accuracy: 0.8606\n",
            "Epoch 114/200 - Train Running Loss: 46.1006 - Test Loss: 45.0832 - Test Accuracy: 0.8536\n",
            "Epoch 115/200 - Train Running Loss: 45.7203 - Test Loss: 47.3735 - Test Accuracy: 0.8510\n",
            "Epoch 116/200 - Train Running Loss: 45.3436 - Test Loss: 45.6181 - Test Accuracy: 0.8540\n",
            "Epoch 117/200 - Train Running Loss: 245.2483 - Test Loss: 43.0845 - Test Accuracy: 0.8315\n",
            "Epoch 118/200 - Train Running Loss: 86.3926 - Test Loss: 41.0587 - Test Accuracy: 0.8500\n",
            "Epoch 119/200 - Train Running Loss: 57.7696 - Test Loss: 43.1745 - Test Accuracy: 0.8569\n",
            "Epoch 120/200 - Train Running Loss: 46.1705 - Test Loss: 43.9091 - Test Accuracy: 0.8618\n",
            "Epoch 121/200 - Train Running Loss: 41.5204 - Test Loss: 46.3765 - Test Accuracy: 0.8606\n",
            "Epoch 122/200 - Train Running Loss: 39.6511 - Test Loss: 47.0374 - Test Accuracy: 0.8536\n",
            "Epoch 123/200 - Train Running Loss: 39.1753 - Test Loss: 44.8281 - Test Accuracy: 0.8581\n",
            "Epoch 124/200 - Train Running Loss: 38.7508 - Test Loss: 46.6866 - Test Accuracy: 0.8591\n",
            "Epoch 125/200 - Train Running Loss: 40.4239 - Test Loss: 45.8945 - Test Accuracy: 0.8604\n",
            "Epoch 126/200 - Train Running Loss: 37.9081 - Test Loss: 45.7507 - Test Accuracy: 0.8619\n",
            "Epoch 127/200 - Train Running Loss: 39.7644 - Test Loss: 46.2345 - Test Accuracy: 0.8587\n",
            "Epoch 128/200 - Train Running Loss: 39.6172 - Test Loss: 48.1555 - Test Accuracy: 0.8527\n",
            "Epoch 129/200 - Train Running Loss: 42.7134 - Test Loss: 47.0451 - Test Accuracy: 0.8567\n",
            "Epoch 130/200 - Train Running Loss: 40.5577 - Test Loss: 45.2264 - Test Accuracy: 0.8586\n",
            "Epoch 131/200 - Train Running Loss: 38.7410 - Test Loss: 44.3619 - Test Accuracy: 0.8635\n",
            "Epoch 132/200 - Train Running Loss: 40.5308 - Test Loss: 46.2649 - Test Accuracy: 0.8607\n",
            "Epoch 133/200 - Train Running Loss: 38.0850 - Test Loss: 47.6454 - Test Accuracy: 0.8578\n",
            "Epoch 134/200 - Train Running Loss: 38.7242 - Test Loss: 47.9299 - Test Accuracy: 0.8583\n",
            "Epoch 135/200 - Train Running Loss: 38.2826 - Test Loss: 44.9372 - Test Accuracy: 0.8633\n",
            "Epoch 136/200 - Train Running Loss: 39.0085 - Test Loss: 48.0622 - Test Accuracy: 0.8565\n",
            "Epoch 137/200 - Train Running Loss: 39.2217 - Test Loss: 46.8509 - Test Accuracy: 0.8565\n",
            "Epoch 138/200 - Train Running Loss: 38.2551 - Test Loss: 44.9170 - Test Accuracy: 0.8619\n",
            "Epoch 139/200 - Train Running Loss: 39.5511 - Test Loss: 45.1855 - Test Accuracy: 0.8621\n",
            "Epoch 140/200 - Train Running Loss: 38.1336 - Test Loss: 47.9912 - Test Accuracy: 0.8554\n",
            "Epoch 141/200 - Train Running Loss: 35.5706 - Test Loss: 48.1957 - Test Accuracy: 0.8590\n",
            "Epoch 142/200 - Train Running Loss: 37.4882 - Test Loss: 45.8558 - Test Accuracy: 0.8602\n",
            "Epoch 143/200 - Train Running Loss: 35.8609 - Test Loss: 49.0280 - Test Accuracy: 0.8618\n",
            "Epoch 144/200 - Train Running Loss: 38.3988 - Test Loss: 44.1850 - Test Accuracy: 0.8629\n",
            "Epoch 145/200 - Train Running Loss: 33.9124 - Test Loss: 50.4516 - Test Accuracy: 0.8568\n",
            "Epoch 146/200 - Train Running Loss: 35.0180 - Test Loss: 47.9385 - Test Accuracy: 0.8630\n",
            "Epoch 147/200 - Train Running Loss: 36.2735 - Test Loss: 45.8971 - Test Accuracy: 0.8647\n",
            "Epoch 148/200 - Train Running Loss: 33.1413 - Test Loss: 49.6045 - Test Accuracy: 0.8569\n",
            "Epoch 149/200 - Train Running Loss: 35.4751 - Test Loss: 47.0611 - Test Accuracy: 0.8547\n",
            "Epoch 150/200 - Train Running Loss: 37.3724 - Test Loss: 51.4012 - Test Accuracy: 0.8568\n",
            "Epoch 151/200 - Train Running Loss: 34.4316 - Test Loss: 54.3609 - Test Accuracy: 0.8477\n",
            "Epoch 152/200 - Train Running Loss: 33.8610 - Test Loss: 50.7803 - Test Accuracy: 0.8552\n",
            "Epoch 153/200 - Train Running Loss: 43.7141 - Test Loss: 47.9345 - Test Accuracy: 0.8580\n",
            "Epoch 154/200 - Train Running Loss: 92.9159 - Test Loss: 43.9635 - Test Accuracy: 0.8601\n",
            "Epoch 155/200 - Train Running Loss: 36.8001 - Test Loss: 46.2529 - Test Accuracy: 0.8609\n",
            "Epoch 156/200 - Train Running Loss: 31.5374 - Test Loss: 46.6289 - Test Accuracy: 0.8635\n",
            "Epoch 157/200 - Train Running Loss: 29.3489 - Test Loss: 47.8813 - Test Accuracy: 0.8617\n",
            "Epoch 158/200 - Train Running Loss: 29.1620 - Test Loss: 49.2999 - Test Accuracy: 0.8592\n",
            "Epoch 159/200 - Train Running Loss: 29.8738 - Test Loss: 51.0340 - Test Accuracy: 0.8533\n",
            "Epoch 160/200 - Train Running Loss: 30.0068 - Test Loss: 50.0698 - Test Accuracy: 0.8579\n",
            "Epoch 161/200 - Train Running Loss: 30.1210 - Test Loss: 48.8375 - Test Accuracy: 0.8564\n",
            "Epoch 162/200 - Train Running Loss: 28.0228 - Test Loss: 53.2983 - Test Accuracy: 0.8553\n",
            "Epoch 163/200 - Train Running Loss: 29.8181 - Test Loss: 47.0160 - Test Accuracy: 0.8609\n",
            "Epoch 164/200 - Train Running Loss: 29.9793 - Test Loss: 49.6064 - Test Accuracy: 0.8595\n",
            "Epoch 165/200 - Train Running Loss: 30.4021 - Test Loss: 49.3097 - Test Accuracy: 0.8583\n",
            "Epoch 166/200 - Train Running Loss: 31.0854 - Test Loss: 52.3364 - Test Accuracy: 0.8552\n",
            "Epoch 167/200 - Train Running Loss: 29.1591 - Test Loss: 49.1730 - Test Accuracy: 0.8591\n",
            "Epoch 168/200 - Train Running Loss: 29.9949 - Test Loss: 48.4597 - Test Accuracy: 0.8639\n",
            "Epoch 169/200 - Train Running Loss: 28.6302 - Test Loss: 50.6905 - Test Accuracy: 0.8555\n",
            "Epoch 170/200 - Train Running Loss: 30.1388 - Test Loss: 49.7910 - Test Accuracy: 0.8609\n",
            "Epoch 171/200 - Train Running Loss: 29.4871 - Test Loss: 50.3169 - Test Accuracy: 0.8597\n",
            "Epoch 172/200 - Train Running Loss: 28.0695 - Test Loss: 51.2369 - Test Accuracy: 0.8576\n",
            "Epoch 173/200 - Train Running Loss: 28.8719 - Test Loss: 49.9776 - Test Accuracy: 0.8595\n",
            "Epoch 174/200 - Train Running Loss: 28.9473 - Test Loss: 50.6740 - Test Accuracy: 0.8550\n",
            "Epoch 175/200 - Train Running Loss: 27.9847 - Test Loss: 50.6429 - Test Accuracy: 0.8591\n",
            "Epoch 176/200 - Train Running Loss: 27.8748 - Test Loss: 46.2078 - Test Accuracy: 0.8648\n",
            "Epoch 177/200 - Train Running Loss: 25.2647 - Test Loss: 53.0674 - Test Accuracy: 0.8601\n",
            "Epoch 178/200 - Train Running Loss: 28.3790 - Test Loss: 51.7502 - Test Accuracy: 0.8588\n",
            "Epoch 179/200 - Train Running Loss: 27.3810 - Test Loss: 50.5462 - Test Accuracy: 0.8607\n",
            "Epoch 180/200 - Train Running Loss: 26.1252 - Test Loss: 51.9094 - Test Accuracy: 0.8621\n",
            "Epoch 181/200 - Train Running Loss: 26.3184 - Test Loss: 52.8958 - Test Accuracy: 0.8607\n",
            "Epoch 182/200 - Train Running Loss: 27.2822 - Test Loss: 49.3224 - Test Accuracy: 0.8586\n",
            "Epoch 183/200 - Train Running Loss: 27.2887 - Test Loss: 51.3946 - Test Accuracy: 0.8593\n",
            "Epoch 184/200 - Train Running Loss: 27.9149 - Test Loss: 48.6567 - Test Accuracy: 0.8647\n",
            "Epoch 185/200 - Train Running Loss: 23.9093 - Test Loss: 52.1652 - Test Accuracy: 0.8608\n",
            "Epoch 186/200 - Train Running Loss: 26.3227 - Test Loss: 48.2127 - Test Accuracy: 0.8640\n",
            "Epoch 187/200 - Train Running Loss: 25.8967 - Test Loss: 51.9762 - Test Accuracy: 0.8610\n",
            "Epoch 188/200 - Train Running Loss: 25.8809 - Test Loss: 50.2403 - Test Accuracy: 0.8625\n",
            "Epoch 189/200 - Train Running Loss: 25.6456 - Test Loss: 50.4655 - Test Accuracy: 0.8609\n",
            "Epoch 190/200 - Train Running Loss: 26.0698 - Test Loss: 49.4578 - Test Accuracy: 0.8635\n",
            "Epoch 191/200 - Train Running Loss: 24.3773 - Test Loss: 51.5873 - Test Accuracy: 0.8625\n",
            "Epoch 192/200 - Train Running Loss: 25.6299 - Test Loss: 52.3229 - Test Accuracy: 0.8640\n",
            "Epoch 193/200 - Train Running Loss: 25.4520 - Test Loss: 52.1914 - Test Accuracy: 0.8584\n",
            "Epoch 194/200 - Train Running Loss: 25.5463 - Test Loss: 52.4348 - Test Accuracy: 0.8602\n",
            "Epoch 195/200 - Train Running Loss: 24.5455 - Test Loss: 51.8860 - Test Accuracy: 0.8602\n",
            "Epoch 196/200 - Train Running Loss: 22.6853 - Test Loss: 51.1996 - Test Accuracy: 0.8651\n",
            "Epoch 197/200 - Train Running Loss: 24.0122 - Test Loss: 51.2475 - Test Accuracy: 0.8617\n",
            "Epoch 198/200 - Train Running Loss: 24.2895 - Test Loss: 49.7653 - Test Accuracy: 0.8648\n",
            "Epoch 199/200 - Train Running Loss: 24.9360 - Test Loss: 75.6919 - Test Accuracy: 0.8113\n",
            "Epoch 200/200 - Train Running Loss: 31.5925 - Test Loss: 51.5607 - Test Accuracy: 0.8627\n",
            "Training finished.\n"
          ]
        }
      ]
    },
    {
      "cell_type": "code",
      "source": [
        "\n",
        "import matplotlib.pyplot as plt\n",
        "\n",
        "\n",
        "epochs_range = range(1, len(training_loss) + 1)\n",
        "plt.figure(figsize=(16, 5))\n",
        "plt.subplot(1, 2, 1)\n",
        "plt.plot(epochs_range, training_loss, label='Train Loss')\n",
        "plt.plot(epochs_range, testing_loss, label='Test Loss')\n",
        "plt.xlabel('Epochs')\n",
        "plt.ylabel('Loss')\n",
        "plt.title('Training and Test Loss')\n",
        "plt.legend()\n",
        "\n",
        "# Plot Accuracy\n",
        "plt.subplot(1, 2, 2)\n",
        "plt.plot(epochs_range, training_acc, label='Train Accuracy')\n",
        "plt.plot(epochs_range, testing_acc, label='Test Accuracy')\n",
        "plt.xlabel('Epochs')\n",
        "plt.ylabel('Accuracy')\n",
        "plt.title('Training and Test Accuracy')\n",
        "plt.legend()"
      ],
      "metadata": {
        "id": "lBZjDjaqcPEa",
        "colab": {
          "base_uri": "https://localhost:8080/",
          "height": 505
        },
        "outputId": "93706409-cdee-47ca-a641-779417473a51"
      },
      "execution_count": 19,
      "outputs": [
        {
          "data": {
            "text/plain": [
              "<matplotlib.legend.Legend at 0x783551866c20>"
            ]
          },
          "execution_count": 19,
          "metadata": {},
          "output_type": "execute_result"
        },
        {
          "data": {
            "image/png": "[encoded data removed]",
            "text/plain": [
              "<Figure size 1600x500 with 2 Axes>"
            ]
          },
          "metadata": {},
          "output_type": "display_data"
        }
      ]
    },
    {
      "cell_type": "code",
      "source": [
        "se_resnet.eval()  # Set the model to evaluation mode\n",
        "\n",
        "correct_predictions = 0\n",
        "total_samples = 0\n",
        "\n",
        "with torch.no_grad():\n",
        "\n",
        "    for inputs, labels in test_loader:\n",
        "        inputs, labels = inputs.to(device), labels.to(device)\n",
        "\n",
        "        # Forward pass\n",
        "        outputs = se_resnet(inputs)\n",
        "\n",
        "        # Get the predicted class\n",
        "        _, predicted = torch.max(outputs, 1)\n",
        "\n",
        "        # Update counts\n",
        "        total_samples += labels.size(0)\n",
        "        correct_predictions += (predicted == labels).sum().item()\n",
        "\n",
        "# Calculate accuracy\n",
        "accuracy = correct_predictions / total_samples\n",
        "print(f\"Accuracy on the testing set: {accuracy * 100:.2f}%\")"
      ],
      "metadata": {
        "id": "hqRebpEeZBaT",
        "colab": {
          "base_uri": "https://localhost:8080/"
        },
        "outputId": "0e459145-a0ac-4e7c-c93b-93876e7be45c"
      },
      "execution_count": 15,
      "outputs": [
        {
          "output_type": "stream",
          "name": "stdout",
          "text": [
            "Accuracy on the testing set: 86.27%\n"
          ]
        }
      ]
    },
    {
      "cell_type": "code",
      "source": [
        "se_resnet.eval()  # Set the model to evaluation mode\n",
        "\n",
        "correct_predictions = 0\n",
        "total_samples = 0\n",
        "\n",
        "with torch.no_grad():\n",
        "\n",
        "    for inputs, labels in train_loader:\n",
        "        inputs, labels = inputs.to(device), labels.to(device)\n",
        "\n",
        "        # Forward pass\n",
        "        outputs = se_resnet(inputs)\n",
        "\n",
        "        # Get the predicted class\n",
        "        _, predicted = torch.max(outputs, 1)\n",
        "\n",
        "        # Update counts\n",
        "        total_samples += labels.size(0)\n",
        "        correct_predictions += (predicted == labels).sum().item()\n",
        "\n",
        "# Calculate accuracy\n",
        "accuracy = correct_predictions / total_samples\n",
        "print(f\"Accuracy on the training set: {accuracy * 100:.2f}%\")"
      ],
      "metadata": {
        "id": "51A3zytH94ty",
        "colab": {
          "base_uri": "https://localhost:8080/"
        },
        "outputId": "3d1b030f-e44e-4504-b2bb-12340e92eacd"
      },
      "execution_count": 16,
      "outputs": [
        {
          "output_type": "stream",
          "name": "stdout",
          "text": [
            "Accuracy on the training set: 98.25%\n"
          ]
        }
      ]
    },
    {
      "cell_type": "code",
      "source": [
        "pytorch_total_params = sum(p.numel() for p in se_resnet.parameters())\n",
        "pytorch_total_params"
      ],
      "metadata": {
        "id": "xX7AR7hEYm_H"
      },
      "execution_count": null,
      "outputs": []
    },
    {
      "cell_type": "code",
      "source": [
        "se_resnet"
      ],
      "metadata": {
        "id": "LsWSnaKdtevs"
      },
      "execution_count": null,
      "outputs": []
    },
    {
      "cell_type": "markdown",
      "source": [
        "SE_ResNet\\\n",
        "testing set\\\n",
        "100 epochs, 84.37%\\\n",
        "200 epochs, 86.37%\n",
        "\n",
        "training set\\\n",
        "200 epochs, 98.31%"
      ],
      "metadata": {
        "id": "yl0dLurVh3g9"
      }
    },
    {
      "cell_type": "code",
      "source": [],
      "metadata": {
        "id": "-M-5mZN4-m_N"
      },
      "execution_count": 18,
      "outputs": []
    }
  ]
}