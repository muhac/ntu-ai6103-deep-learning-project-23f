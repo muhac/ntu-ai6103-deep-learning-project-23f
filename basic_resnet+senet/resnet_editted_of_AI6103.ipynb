{
  "nbformat": 4,
  "nbformat_minor": 0,
  "metadata": {
    "colab": {
      "provenance": [],
      "gpuType": "T4",
      "machine_shape": "hm"
    },
    "kernelspec": {
      "name": "python3",
      "display_name": "Python 3"
    },
    "language_info": {
      "name": "python"
    },
    "accelerator": "GPU"
  },
  "cells": [
    {
      "cell_type": "code",
      "execution_count": null,
      "metadata": {
        "id": "HOsXceG55Z6Z"
      },
      "outputs": [],
      "source": [
        "import torch\n",
        "import torchvision\n",
        "import torchvision.transforms as transforms\n",
        "import pdb\n",
        "\n",
        "from torch import nn"
      ]
    },
    {
      "cell_type": "code",
      "source": [
        "\n",
        "class ResNet50(nn.Module):\n",
        "    def __init__(self, block, num_classes=1000):\n",
        "        super(ResNet50, self).__init__()\n",
        "        self.block = block\n",
        "        self.num_classes = num_classes\n",
        "\n",
        "        self.stage1 = self.stage_input()\n",
        "        self.stage2 = self.stage_blocks(3, 64, 64, stride=1)\n",
        "        self.stage3 = self.stage_blocks(4, 64 * 4, 128, stride=2)\n",
        "        self.stage4 = self.stage_blocks(6, 128 * 4, 256, stride=2)\n",
        "        self.stage5 = self.stage_blocks(3, 256 * 4, 512, stride=2)\n",
        "        self.stage6 = self.stage_output(512 * 4, self.num_classes)\n",
        "\n",
        "    def forward(self, x):\n",
        "        x = self.stage1(x)\n",
        "        x = self.stage2(x)\n",
        "        x = self.stage3(x)\n",
        "        x = self.stage4(x)\n",
        "        x = self.stage5(x)\n",
        "        x = self.stage6(x)\n",
        "        return x\n",
        "\n",
        "    def stage_input(self):\n",
        "        conv = nn.Conv2d(3, 64, kernel_size=7, stride=2, padding=3, bias=False)\n",
        "        bn = nn.BatchNorm2d(64)\n",
        "        relu = nn.ReLU()\n",
        "        pool = nn.MaxPool2d(kernel_size=3, stride=2, padding=1)\n",
        "        return nn.Sequential(conv, bn, relu, pool)\n",
        "\n",
        "    def stage_blocks(self, n, in_channels, out_channels, stride=1):\n",
        "        layers = [self.block(in_channels, out_channels, stride)]\n",
        "        for i in range(n - 1):\n",
        "            layers.append(self.block(out_channels * 4, out_channels))\n",
        "        return nn.Sequential(*layers)\n",
        "\n",
        "    def stage_output(self, in_channels, out_channels, stride=1):\n",
        "        pool = nn.AdaptiveAvgPool2d((1, 1))\n",
        "        flatten = nn.Flatten()\n",
        "        fc = nn.Linear(in_channels, out_channels)\n",
        "        return nn.Sequential(pool, flatten, fc)\n",
        "\n",
        "\n",
        "class ResNetBlock(nn.Module):\n",
        "    def __init__(self, in_channels, out_channels, stride=1):\n",
        "        super(ResNetBlock, self).__init__()\n",
        "\n",
        "        self.conv1 = nn.Conv2d(in_channels, out_channels, kernel_size=1, stride=stride, bias=False)\n",
        "        self.bn1 = nn.BatchNorm2d(out_channels)\n",
        "\n",
        "        self.conv2 = nn.Conv2d(out_channels, out_channels, kernel_size=3, stride=1, padding=1, bias=False)\n",
        "        self.bn2 = nn.BatchNorm2d(out_channels)\n",
        "\n",
        "        self.conv3 = nn.Conv2d(out_channels, out_channels * 4, kernel_size=1, stride=1, bias=False)\n",
        "        self.bn3 = nn.BatchNorm2d(out_channels * 4)\n",
        "\n",
        "        self.relu = nn.ReLU()\n",
        "\n",
        "        self.need_downsample = stride != 1 or in_channels != out_channels * 4\n",
        "        if self.need_downsample:\n",
        "            self.downsample = nn.Sequential(\n",
        "                nn.Conv2d(in_channels, out_channels * 4, kernel_size=1, stride=stride, bias=False),\n",
        "                nn.BatchNorm2d(out_channels * 4)\n",
        "            )\n",
        "        else:\n",
        "            self.downsample = None\n",
        "\n",
        "    def forward(self, x):\n",
        "        identity = x\n",
        "\n",
        "        x = self.relu(self.bn1(self.conv1(x)))\n",
        "        x = self.relu(self.bn2(self.conv2(x)))\n",
        "        x = self.bn3(self.conv3(x))\n",
        "\n",
        "        if self.need_downsample:\n",
        "            identity = self.downsample(identity)\n",
        "\n",
        "        out = x + identity\n",
        "        out = self.relu(out)\n",
        "\n",
        "        return out\n",
        "\n",
        "\n",
        "class SEBlock(nn.Module):\n",
        "    def __init__(self, channel, r):\n",
        "        super().__init__()\n",
        "        reductionChannel = int(channel / r)\n",
        "        self.pool = nn.AdaptiveAvgPool2d((1, 1))\n",
        "        self.fc1 = nn.Linear(channel, reductionChannel)\n",
        "        self.relu = nn.ReLU()\n",
        "        self.fc2 = nn.Linear(reductionChannel, channel)\n",
        "        self.sigmoid = nn.Sigmoid()\n",
        "\n",
        "    def forward(self, x):\n",
        "        # pdb.set_trace()\n",
        "        out = self.pool(x)\n",
        "        batch, channel = out.size(0), out.size(1)\n",
        "        out = out.view(batch, -1)\n",
        "        out = self.fc1(out)\n",
        "        out = self.relu(out)\n",
        "        out = self.fc2(out)\n",
        "        out = out.view(batch, channel, 1, 1)\n",
        "        out = self.sigmoid(out)\n",
        "        return out\n",
        "\n",
        "\n",
        "class SEResNetBlock(nn.Module):\n",
        "    def __init__(self, in_channels, out_channels, stride=1):\n",
        "        super(SEResNetBlock, self).__init__()\n",
        "\n",
        "        self.conv1 = nn.Conv2d(in_channels, out_channels, kernel_size=1, stride=stride, bias=False)\n",
        "        self.bn1 = nn.BatchNorm2d(out_channels)\n",
        "\n",
        "        self.conv2 = nn.Conv2d(out_channels, out_channels, kernel_size=3, stride=1, padding=1, bias=False)\n",
        "        self.bn2 = nn.BatchNorm2d(out_channels)\n",
        "\n",
        "        self.conv3 = nn.Conv2d(out_channels, out_channels * 4, kernel_size=1, stride=1, bias=False)\n",
        "        self.bn3 = nn.BatchNorm2d(out_channels * 4)\n",
        "\n",
        "        self.relu = nn.ReLU()\n",
        "\n",
        "        self.need_downsample = stride != 1 or in_channels != out_channels * 4\n",
        "        if self.need_downsample:\n",
        "            self.downsample = nn.Sequential(\n",
        "                nn.Conv2d(in_channels, out_channels * 4, kernel_size=1, stride=stride, bias=False),\n",
        "                nn.BatchNorm2d(out_channels * 4)\n",
        "            )\n",
        "        else:\n",
        "            self.downsample = None\n",
        "\n",
        "        self.seBlock = SEBlock(out_channels * 4, 1)\n",
        "\n",
        "    def forward(self, x):\n",
        "        identity = x\n",
        "\n",
        "        x = self.relu(self.bn1(self.conv1(x)))\n",
        "        x = self.relu(self.bn2(self.conv2(x)))\n",
        "        x = self.bn3(self.conv3(x))\n",
        "\n",
        "        if self.need_downsample:\n",
        "            identity = self.downsample(identity)\n",
        "\n",
        "        # apply SE\n",
        "        scale = self.seBlock(x)\n",
        "\n",
        "        out = x * scale + identity\n",
        "        out = self.relu(out)\n",
        "\n",
        "        return out"
      ],
      "metadata": {
        "id": "yp4v9Qi0_2GO"
      },
      "execution_count": null,
      "outputs": []
    },
    {
      "cell_type": "code",
      "source": [
        "batch_size = 128\n"
      ],
      "metadata": {
        "id": "ur3g2ELBYv1h"
      },
      "execution_count": null,
      "outputs": []
    },
    {
      "cell_type": "code",
      "source": [
        "# Define the data transformations (optional but recommended)\n",
        "# transform = transforms.Compose([\n",
        "#     transforms.ToTensor(),  # Convert images to PyTorch tensors\n",
        "#     transforms.Normalize((0.5, 0.5, 0.5), (0.5, 0.5, 0.5))  # Normalize the pixel values\n",
        "# ])\n",
        "\n",
        "\n",
        "#Other Transforms can be used\n",
        "transform_train = transforms.Compose([\n",
        "    transforms.RandomHorizontalFlip(),\n",
        "    transforms.RandomCrop(32, padding=4),\n",
        "    transforms.ToTensor(),\n",
        "    transforms.Normalize((0.4914, 0.4822, 0.4465), (0.2023, 0.1994, 0.2010)),\n",
        "])\n",
        "\n",
        "transform_test = transforms.Compose([\n",
        "    transforms.ToTensor(),\n",
        "    transforms.Normalize((0.4914, 0.4822, 0.4465), (0.2023, 0.1994, 0.2010)),\n",
        "])\n",
        "\n",
        "\n",
        "\n",
        "# Download CIFAR-10 training dataset\n",
        "train_dataset = torchvision.datasets.CIFAR10(root='./data', train=True, download=True, transform=transform_train)\n",
        "\n",
        "# Download CIFAR-10 testing dataset\n",
        "test_dataset = torchvision.datasets.CIFAR10(root='./data', train=False, download=True, transform=transform_test)\n",
        "\n",
        "# Create data loaders for training and testing datasets\n",
        "train_loader = torch.utils.data.DataLoader(train_dataset, batch_size=batch_size, shuffle=True, num_workers=2)\n",
        "test_loader = torch.utils.data.DataLoader(test_dataset, batch_size=batch_size, shuffle=False, num_workers=2)"
      ],
      "metadata": {
        "colab": {
          "base_uri": "https://localhost:8080/"
        },
        "id": "p8FFk5CNY64k",
        "outputId": "0110a18d-4a51-442d-a668-5e8c16f11840"
      },
      "execution_count": null,
      "outputs": [
        {
          "output_type": "stream",
          "name": "stdout",
          "text": [
            "Files already downloaded and verified\n",
            "Files already downloaded and verified\n"
          ]
        }
      ]
    },
    {
      "cell_type": "markdown",
      "source": [
        "Trying regular resnet"
      ],
      "metadata": {
        "id": "rZF6gzsvgFM1"
      }
    },
    {
      "cell_type": "code",
      "source": [
        "import torch\n",
        "import numpy as np\n",
        "import random"
      ],
      "metadata": {
        "id": "2O5eJn1Xi2B3"
      },
      "execution_count": null,
      "outputs": []
    },
    {
      "cell_type": "code",
      "source": [
        "\n",
        "seed = 42\n",
        "\n",
        "# Set seed for PyTorch\n",
        "torch.manual_seed(seed)\n",
        "torch.backends.cudnn.deterministic = True\n",
        "torch.backends.cudnn.benchmark = False\n",
        "\n",
        "# Set seed for NumPy\n",
        "np.random.seed(seed)\n",
        "\n",
        "# Set seed for Python's random module\n",
        "random.seed(seed)"
      ],
      "metadata": {
        "id": "Q_adGnyqKLgb"
      },
      "execution_count": null,
      "outputs": []
    },
    {
      "cell_type": "code",
      "source": [
        "#resnet = ResNet(Bottleneck, [3, 4, 6, 3], num_classes=10)\n",
        "resnet = ResNet50(ResNetBlock)"
      ],
      "metadata": {
        "id": "Idp_xiJvuwJ0"
      },
      "execution_count": null,
      "outputs": []
    },
    {
      "cell_type": "code",
      "source": [
        "learning_rate = 0.01\n",
        "epochs = 200"
      ],
      "metadata": {
        "id": "ruwm5WbFgHjr"
      },
      "execution_count": null,
      "outputs": []
    },
    {
      "cell_type": "code",
      "source": [
        "optimizer = torch.optim.Adam(resnet.parameters(), lr=learning_rate)\n",
        "criterion = nn.CrossEntropyLoss()"
      ],
      "metadata": {
        "id": "XrgEdMJggPmb"
      },
      "execution_count": null,
      "outputs": []
    },
    {
      "cell_type": "code",
      "source": [
        "device = torch.device(\"cuda\" if torch.cuda.is_available() else \"cpu\")\n",
        "resnet = resnet.to(device)"
      ],
      "metadata": {
        "id": "2llNw-POgReR"
      },
      "execution_count": null,
      "outputs": []
    },
    {
      "cell_type": "code",
      "source": [
        "training_loss = []\n",
        "training_acc = []\n",
        "testing_loss = []\n",
        "testing_acc = []\n",
        "\n",
        "\n",
        "for epoch in range(epochs):\n",
        "  # Training loop\n",
        "  correct_predictions = 0\n",
        "  total_samples = 0\n",
        "  running_loss = 0.0\n",
        "\n",
        "  resnet.train()\n",
        "  for images, labels in train_loader:\n",
        "    images, labels = images.to(device), labels.to(device)\n",
        "    #train\n",
        "    optimizer.zero_grad()\n",
        "    outputs = resnet(images)\n",
        "    loss = criterion(outputs, labels)\n",
        "    loss.backward()\n",
        "    optimizer.step()\n",
        "\n",
        "    #saving for loss and acc\n",
        "    running_loss += loss.item()\n",
        "    _, predicted = torch.max(outputs, 1)\n",
        "    total_samples += labels.size(0)\n",
        "    correct_predictions += (predicted == labels).sum().item()\n",
        "\n",
        "  training_loss.append(running_loss)\n",
        "  training_acc.append(correct_predictions / total_samples)\n",
        "\n",
        "  # Testing loop\n",
        "  resnet.eval()  # Set the model to evaluation mode\n",
        "  correct_predictions = 0\n",
        "  total_samples = 0\n",
        "  running_loss = 0\n",
        "\n",
        "  with torch.no_grad():\n",
        "\n",
        "    for inputs, labels in test_loader:\n",
        "      inputs, labels = inputs.to(device), labels.to(device)\n",
        "\n",
        "      # test\n",
        "      outputs = resnet(inputs)\n",
        "      loss = criterion(outputs, labels)\n",
        "\n",
        "      #saving for loss and acc\n",
        "      running_loss += loss.item()\n",
        "      _, predicted = torch.max(outputs, 1)\n",
        "      total_samples += labels.size(0)\n",
        "      correct_predictions += (predicted == labels).sum().item()\n",
        "\n",
        "  testing_loss.append(running_loss)\n",
        "  testing_acc.append(correct_predictions / total_samples)\n",
        "\n",
        "\n",
        "  print(f'Epoch {epoch + 1}/{epochs} - '\n",
        "      f'Train Running Loss: {training_loss[-1]:.4f} - '\n",
        "      f'Test Loss: {testing_loss[-1]:.4f} - '\n",
        "      f'Test Accuracy: {testing_acc[-1]:.4f}')\n",
        "\n",
        "print('Training finished.')"
      ],
      "metadata": {
        "colab": {
          "base_uri": "https://localhost:8080/"
        },
        "id": "3MH2bOwVgUiO",
        "outputId": "202ce604-cc3d-47c5-95ee-2e022052ccf0"
      },
      "execution_count": null,
      "outputs": [
        {
          "output_type": "stream",
          "name": "stdout",
          "text": [
            "Epoch 1/200 - Train Running Loss: 963.3813 - Test Loss: 161.2150 - Test Accuracy: 0.3094\n",
            "Epoch 2/200 - Train Running Loss: 673.0805 - Test Loss: 127.7026 - Test Accuracy: 0.4210\n",
            "Epoch 3/200 - Train Running Loss: 655.2075 - Test Loss: 118.4171 - Test Accuracy: 0.4433\n",
            "Epoch 4/200 - Train Running Loss: 578.1768 - Test Loss: 116.5892 - Test Accuracy: 0.4721\n",
            "Epoch 5/200 - Train Running Loss: 539.8430 - Test Loss: 103.7225 - Test Accuracy: 0.5314\n",
            "Epoch 6/200 - Train Running Loss: 503.7325 - Test Loss: 105.2430 - Test Accuracy: 0.5362\n",
            "Epoch 7/200 - Train Running Loss: 475.7772 - Test Loss: 96.5046 - Test Accuracy: 0.5897\n",
            "Epoch 8/200 - Train Running Loss: 438.4766 - Test Loss: 86.9216 - Test Accuracy: 0.6254\n",
            "Epoch 9/200 - Train Running Loss: 417.0865 - Test Loss: 91.9607 - Test Accuracy: 0.6278\n",
            "Epoch 10/200 - Train Running Loss: 391.3829 - Test Loss: 91.4121 - Test Accuracy: 0.6131\n",
            "Epoch 11/200 - Train Running Loss: 384.3506 - Test Loss: 77.9201 - Test Accuracy: 0.6583\n",
            "Epoch 12/200 - Train Running Loss: 351.7966 - Test Loss: 70.6135 - Test Accuracy: 0.6881\n",
            "Epoch 13/200 - Train Running Loss: 333.7215 - Test Loss: 90.4986 - Test Accuracy: 0.6936\n",
            "Epoch 14/200 - Train Running Loss: 352.1334 - Test Loss: 66.7831 - Test Accuracy: 0.7112\n",
            "Epoch 15/200 - Train Running Loss: 314.1840 - Test Loss: 61.0266 - Test Accuracy: 0.7229\n",
            "Epoch 16/200 - Train Running Loss: 303.9362 - Test Loss: 56.7017 - Test Accuracy: 0.7556\n",
            "Epoch 17/200 - Train Running Loss: 299.8158 - Test Loss: 62.8842 - Test Accuracy: 0.7448\n",
            "Epoch 18/200 - Train Running Loss: 277.7693 - Test Loss: 56.4391 - Test Accuracy: 0.7558\n",
            "Epoch 19/200 - Train Running Loss: 307.7013 - Test Loss: 54.8279 - Test Accuracy: 0.7607\n",
            "Epoch 20/200 - Train Running Loss: 265.6463 - Test Loss: 58.0404 - Test Accuracy: 0.7579\n",
            "Epoch 21/200 - Train Running Loss: 262.9153 - Test Loss: 58.0782 - Test Accuracy: 0.7531\n",
            "Epoch 22/200 - Train Running Loss: 255.2874 - Test Loss: 57.8377 - Test Accuracy: 0.7514\n",
            "Epoch 23/200 - Train Running Loss: 244.8758 - Test Loss: 52.8580 - Test Accuracy: 0.7766\n",
            "Epoch 24/200 - Train Running Loss: 239.1712 - Test Loss: 50.0349 - Test Accuracy: 0.7822\n",
            "Epoch 25/200 - Train Running Loss: 235.2215 - Test Loss: 48.3191 - Test Accuracy: 0.7957\n",
            "Epoch 26/200 - Train Running Loss: 224.2066 - Test Loss: 50.7976 - Test Accuracy: 0.7860\n",
            "Epoch 27/200 - Train Running Loss: 219.1592 - Test Loss: 49.2286 - Test Accuracy: 0.7901\n",
            "Epoch 28/200 - Train Running Loss: 218.0512 - Test Loss: 50.5494 - Test Accuracy: 0.7863\n",
            "Epoch 29/200 - Train Running Loss: 210.9659 - Test Loss: 46.6922 - Test Accuracy: 0.8039\n",
            "Epoch 30/200 - Train Running Loss: 303.1898 - Test Loss: 67.7371 - Test Accuracy: 0.7139\n",
            "Epoch 31/200 - Train Running Loss: 249.6920 - Test Loss: 49.1344 - Test Accuracy: 0.7866\n",
            "Epoch 32/200 - Train Running Loss: 210.0531 - Test Loss: 47.3229 - Test Accuracy: 0.7983\n",
            "Epoch 33/200 - Train Running Loss: 196.5005 - Test Loss: 46.8997 - Test Accuracy: 0.8032\n",
            "Epoch 34/200 - Train Running Loss: 194.2090 - Test Loss: 57.6284 - Test Accuracy: 0.7644\n",
            "Epoch 35/200 - Train Running Loss: 273.4628 - Test Loss: 74.1578 - Test Accuracy: 0.6885\n",
            "Epoch 36/200 - Train Running Loss: 265.1213 - Test Loss: 47.2420 - Test Accuracy: 0.7966\n",
            "Epoch 37/200 - Train Running Loss: 202.0686 - Test Loss: 41.4582 - Test Accuracy: 0.8231\n",
            "Epoch 38/200 - Train Running Loss: 193.5206 - Test Loss: 45.1919 - Test Accuracy: 0.8092\n",
            "Epoch 39/200 - Train Running Loss: 176.2098 - Test Loss: 43.6815 - Test Accuracy: 0.8165\n",
            "Epoch 40/200 - Train Running Loss: 172.2944 - Test Loss: 43.9600 - Test Accuracy: 0.8164\n",
            "Epoch 41/200 - Train Running Loss: 173.4504 - Test Loss: 40.8622 - Test Accuracy: 0.8288\n",
            "Epoch 42/200 - Train Running Loss: 164.4631 - Test Loss: 40.2125 - Test Accuracy: 0.8313\n",
            "Epoch 43/200 - Train Running Loss: 159.3817 - Test Loss: 42.8335 - Test Accuracy: 0.8232\n",
            "Epoch 44/200 - Train Running Loss: 161.2975 - Test Loss: 53.4295 - Test Accuracy: 0.8058\n",
            "Epoch 45/200 - Train Running Loss: 169.9690 - Test Loss: 42.2561 - Test Accuracy: 0.8235\n",
            "Epoch 46/200 - Train Running Loss: 153.3148 - Test Loss: 42.9579 - Test Accuracy: 0.8235\n",
            "Epoch 47/200 - Train Running Loss: 150.3787 - Test Loss: 38.8259 - Test Accuracy: 0.8405\n",
            "Epoch 48/200 - Train Running Loss: 147.6006 - Test Loss: 63.8241 - Test Accuracy: 0.7587\n",
            "Epoch 49/200 - Train Running Loss: 172.4937 - Test Loss: 39.9661 - Test Accuracy: 0.8307\n",
            "Epoch 50/200 - Train Running Loss: 237.3133 - Test Loss: 49.4878 - Test Accuracy: 0.7860\n",
            "Epoch 51/200 - Train Running Loss: 179.7113 - Test Loss: 39.1960 - Test Accuracy: 0.8327\n",
            "Epoch 52/200 - Train Running Loss: 146.6162 - Test Loss: 41.8716 - Test Accuracy: 0.8239\n",
            "Epoch 53/200 - Train Running Loss: 137.3606 - Test Loss: 41.2309 - Test Accuracy: 0.8295\n",
            "Epoch 54/200 - Train Running Loss: 132.2139 - Test Loss: 39.1663 - Test Accuracy: 0.8387\n",
            "Epoch 55/200 - Train Running Loss: 221.5084 - Test Loss: 42.0009 - Test Accuracy: 0.8294\n",
            "Epoch 56/200 - Train Running Loss: 149.3433 - Test Loss: 40.9431 - Test Accuracy: 0.8311\n",
            "Epoch 57/200 - Train Running Loss: 133.9097 - Test Loss: 38.8455 - Test Accuracy: 0.8416\n",
            "Epoch 58/200 - Train Running Loss: 126.7591 - Test Loss: 38.8355 - Test Accuracy: 0.8489\n",
            "Epoch 59/200 - Train Running Loss: 136.3474 - Test Loss: 38.8549 - Test Accuracy: 0.8420\n",
            "Epoch 60/200 - Train Running Loss: 126.5762 - Test Loss: 40.1305 - Test Accuracy: 0.8363\n",
            "Epoch 61/200 - Train Running Loss: 119.8670 - Test Loss: 41.8444 - Test Accuracy: 0.8372\n",
            "Epoch 62/200 - Train Running Loss: 201.7856 - Test Loss: 40.5425 - Test Accuracy: 0.8311\n",
            "Epoch 63/200 - Train Running Loss: 139.9848 - Test Loss: 42.2466 - Test Accuracy: 0.8296\n",
            "Epoch 64/200 - Train Running Loss: 122.5938 - Test Loss: 39.3253 - Test Accuracy: 0.8436\n",
            "Epoch 65/200 - Train Running Loss: 115.3485 - Test Loss: 39.2802 - Test Accuracy: 0.8411\n",
            "Epoch 66/200 - Train Running Loss: 111.7849 - Test Loss: 37.8849 - Test Accuracy: 0.8491\n",
            "Epoch 67/200 - Train Running Loss: 107.8065 - Test Loss: 39.8103 - Test Accuracy: 0.8427\n",
            "Epoch 68/200 - Train Running Loss: 108.6173 - Test Loss: 40.2926 - Test Accuracy: 0.8372\n",
            "Epoch 69/200 - Train Running Loss: 105.2339 - Test Loss: 39.5686 - Test Accuracy: 0.8441\n",
            "Epoch 70/200 - Train Running Loss: 104.8754 - Test Loss: 40.2150 - Test Accuracy: 0.8440\n",
            "Epoch 71/200 - Train Running Loss: 107.2094 - Test Loss: 43.3892 - Test Accuracy: 0.8383\n",
            "Epoch 72/200 - Train Running Loss: 242.1341 - Test Loss: 44.3434 - Test Accuracy: 0.8146\n",
            "Epoch 73/200 - Train Running Loss: 137.2226 - Test Loss: 38.7466 - Test Accuracy: 0.8458\n",
            "Epoch 74/200 - Train Running Loss: 109.8582 - Test Loss: 37.8030 - Test Accuracy: 0.8477\n",
            "Epoch 75/200 - Train Running Loss: 98.7940 - Test Loss: 38.4962 - Test Accuracy: 0.8521\n",
            "Epoch 76/200 - Train Running Loss: 95.9725 - Test Loss: 40.7536 - Test Accuracy: 0.8453\n",
            "Epoch 77/200 - Train Running Loss: 124.9880 - Test Loss: 38.2180 - Test Accuracy: 0.8491\n",
            "Epoch 78/200 - Train Running Loss: 97.2667 - Test Loss: 39.2325 - Test Accuracy: 0.8506\n",
            "Epoch 79/200 - Train Running Loss: 91.2029 - Test Loss: 38.7338 - Test Accuracy: 0.8534\n",
            "Epoch 80/200 - Train Running Loss: 90.9043 - Test Loss: 40.8077 - Test Accuracy: 0.8402\n",
            "Epoch 81/200 - Train Running Loss: 109.4807 - Test Loss: 40.4827 - Test Accuracy: 0.8455\n",
            "Epoch 82/200 - Train Running Loss: 89.8387 - Test Loss: 40.8084 - Test Accuracy: 0.8455\n",
            "Epoch 83/200 - Train Running Loss: 85.7034 - Test Loss: 41.6887 - Test Accuracy: 0.8441\n",
            "Epoch 84/200 - Train Running Loss: 85.5169 - Test Loss: 38.8500 - Test Accuracy: 0.8529\n",
            "Epoch 85/200 - Train Running Loss: 82.6412 - Test Loss: 41.6010 - Test Accuracy: 0.8413\n",
            "Epoch 86/200 - Train Running Loss: 83.5578 - Test Loss: 43.3585 - Test Accuracy: 0.8488\n",
            "Epoch 87/200 - Train Running Loss: 82.7090 - Test Loss: 41.1841 - Test Accuracy: 0.8476\n",
            "Epoch 88/200 - Train Running Loss: 81.8406 - Test Loss: 40.3375 - Test Accuracy: 0.8492\n",
            "Epoch 89/200 - Train Running Loss: 80.2967 - Test Loss: 40.8895 - Test Accuracy: 0.8488\n",
            "Epoch 90/200 - Train Running Loss: 80.0173 - Test Loss: 43.3670 - Test Accuracy: 0.8441\n",
            "Epoch 91/200 - Train Running Loss: 79.0744 - Test Loss: 44.9158 - Test Accuracy: 0.8359\n",
            "Epoch 92/200 - Train Running Loss: 77.2442 - Test Loss: 45.4790 - Test Accuracy: 0.8455\n",
            "Epoch 93/200 - Train Running Loss: 195.5970 - Test Loss: 101.6106 - Test Accuracy: 0.5857\n",
            "Epoch 94/200 - Train Running Loss: 323.8303 - Test Loss: 57.5318 - Test Accuracy: 0.7834\n",
            "Epoch 95/200 - Train Running Loss: 178.7687 - Test Loss: 49.8151 - Test Accuracy: 0.8194\n",
            "Epoch 96/200 - Train Running Loss: 133.9039 - Test Loss: 43.0954 - Test Accuracy: 0.8335\n",
            "Epoch 97/200 - Train Running Loss: 110.3409 - Test Loss: 42.6012 - Test Accuracy: 0.8428\n",
            "Epoch 98/200 - Train Running Loss: 97.1323 - Test Loss: 41.2198 - Test Accuracy: 0.8494\n",
            "Epoch 99/200 - Train Running Loss: 86.1655 - Test Loss: 41.5807 - Test Accuracy: 0.8474\n",
            "Epoch 100/200 - Train Running Loss: 78.8775 - Test Loss: 39.7129 - Test Accuracy: 0.8517\n",
            "Epoch 101/200 - Train Running Loss: 73.2108 - Test Loss: 41.2908 - Test Accuracy: 0.8527\n",
            "Epoch 102/200 - Train Running Loss: 69.7348 - Test Loss: 41.0893 - Test Accuracy: 0.8514\n",
            "Epoch 103/200 - Train Running Loss: 64.6774 - Test Loss: 42.2902 - Test Accuracy: 0.8557\n",
            "Epoch 104/200 - Train Running Loss: 64.4539 - Test Loss: 43.4103 - Test Accuracy: 0.8492\n",
            "Epoch 105/200 - Train Running Loss: 64.4250 - Test Loss: 42.9962 - Test Accuracy: 0.8541\n",
            "Epoch 106/200 - Train Running Loss: 63.5269 - Test Loss: 40.6578 - Test Accuracy: 0.8564\n",
            "Epoch 107/200 - Train Running Loss: 61.4148 - Test Loss: 42.6524 - Test Accuracy: 0.8529\n",
            "Epoch 108/200 - Train Running Loss: 63.8800 - Test Loss: 43.1479 - Test Accuracy: 0.8527\n",
            "Epoch 109/200 - Train Running Loss: 61.6399 - Test Loss: 44.5461 - Test Accuracy: 0.8566\n",
            "Epoch 110/200 - Train Running Loss: 62.6853 - Test Loss: 44.2083 - Test Accuracy: 0.8548\n",
            "Epoch 111/200 - Train Running Loss: 130.0583 - Test Loss: 47.7190 - Test Accuracy: 0.8111\n",
            "Epoch 112/200 - Train Running Loss: 96.3104 - Test Loss: 41.8953 - Test Accuracy: 0.8440\n",
            "Epoch 113/200 - Train Running Loss: 65.0912 - Test Loss: 40.8887 - Test Accuracy: 0.8514\n",
            "Epoch 114/200 - Train Running Loss: 61.6929 - Test Loss: 43.1159 - Test Accuracy: 0.8543\n",
            "Epoch 115/200 - Train Running Loss: 59.6127 - Test Loss: 42.2333 - Test Accuracy: 0.8562\n",
            "Epoch 116/200 - Train Running Loss: 59.4484 - Test Loss: 41.6750 - Test Accuracy: 0.8521\n",
            "Epoch 117/200 - Train Running Loss: 59.6534 - Test Loss: 43.4108 - Test Accuracy: 0.8493\n",
            "Epoch 118/200 - Train Running Loss: 59.7981 - Test Loss: 40.9235 - Test Accuracy: 0.8593\n",
            "Epoch 119/200 - Train Running Loss: 57.3385 - Test Loss: 42.6874 - Test Accuracy: 0.8528\n",
            "Epoch 120/200 - Train Running Loss: 60.9013 - Test Loss: 44.3305 - Test Accuracy: 0.8511\n",
            "Epoch 121/200 - Train Running Loss: 56.4096 - Test Loss: 44.0228 - Test Accuracy: 0.8481\n",
            "Epoch 122/200 - Train Running Loss: 57.3130 - Test Loss: 44.9401 - Test Accuracy: 0.8496\n",
            "Epoch 123/200 - Train Running Loss: 57.6671 - Test Loss: 41.6095 - Test Accuracy: 0.8562\n",
            "Epoch 124/200 - Train Running Loss: 55.4577 - Test Loss: 41.9079 - Test Accuracy: 0.8551\n",
            "Epoch 125/200 - Train Running Loss: 53.7425 - Test Loss: 56.9662 - Test Accuracy: 0.8148\n",
            "Epoch 126/200 - Train Running Loss: 59.6533 - Test Loss: 44.5268 - Test Accuracy: 0.8517\n",
            "Epoch 127/200 - Train Running Loss: 54.4482 - Test Loss: 44.4812 - Test Accuracy: 0.8503\n",
            "Epoch 128/200 - Train Running Loss: 52.3568 - Test Loss: 48.2199 - Test Accuracy: 0.8415\n",
            "Epoch 129/200 - Train Running Loss: 52.4296 - Test Loss: 46.8316 - Test Accuracy: 0.8503\n",
            "Epoch 130/200 - Train Running Loss: 51.0107 - Test Loss: 48.4334 - Test Accuracy: 0.8404\n",
            "Epoch 131/200 - Train Running Loss: 54.1241 - Test Loss: 45.0442 - Test Accuracy: 0.8528\n",
            "Epoch 132/200 - Train Running Loss: 50.3983 - Test Loss: 44.3316 - Test Accuracy: 0.8565\n",
            "Epoch 133/200 - Train Running Loss: 51.4777 - Test Loss: 45.6680 - Test Accuracy: 0.8526\n",
            "Epoch 134/200 - Train Running Loss: 48.8929 - Test Loss: 43.9958 - Test Accuracy: 0.8626\n",
            "Epoch 135/200 - Train Running Loss: 49.5133 - Test Loss: 46.8279 - Test Accuracy: 0.8518\n",
            "Epoch 136/200 - Train Running Loss: 46.6566 - Test Loss: 46.6150 - Test Accuracy: 0.8541\n",
            "Epoch 137/200 - Train Running Loss: 48.4828 - Test Loss: 43.7554 - Test Accuracy: 0.8575\n",
            "Epoch 138/200 - Train Running Loss: 46.1241 - Test Loss: 48.5712 - Test Accuracy: 0.8486\n",
            "Epoch 139/200 - Train Running Loss: 46.3967 - Test Loss: 47.1715 - Test Accuracy: 0.8486\n",
            "Epoch 140/200 - Train Running Loss: 48.5409 - Test Loss: 46.5547 - Test Accuracy: 0.8534\n",
            "Epoch 141/200 - Train Running Loss: 45.6132 - Test Loss: 46.6147 - Test Accuracy: 0.8561\n",
            "Epoch 142/200 - Train Running Loss: 45.1968 - Test Loss: 47.7196 - Test Accuracy: 0.8531\n",
            "Epoch 143/200 - Train Running Loss: 43.6161 - Test Loss: 46.1940 - Test Accuracy: 0.8558\n",
            "Epoch 144/200 - Train Running Loss: 46.8656 - Test Loss: 49.5021 - Test Accuracy: 0.8484\n",
            "Epoch 145/200 - Train Running Loss: 44.2468 - Test Loss: 47.5575 - Test Accuracy: 0.8499\n",
            "Epoch 146/200 - Train Running Loss: 44.0483 - Test Loss: 48.9713 - Test Accuracy: 0.8487\n",
            "Epoch 147/200 - Train Running Loss: 41.9111 - Test Loss: 52.8659 - Test Accuracy: 0.8429\n",
            "Epoch 148/200 - Train Running Loss: 41.9575 - Test Loss: 48.3421 - Test Accuracy: 0.8502\n",
            "Epoch 149/200 - Train Running Loss: 40.6255 - Test Loss: 50.6387 - Test Accuracy: 0.8508\n",
            "Epoch 150/200 - Train Running Loss: 42.2643 - Test Loss: 50.2956 - Test Accuracy: 0.8490\n",
            "Epoch 151/200 - Train Running Loss: 40.6893 - Test Loss: 62.7150 - Test Accuracy: 0.8206\n",
            "Epoch 152/200 - Train Running Loss: 40.9618 - Test Loss: 51.2843 - Test Accuracy: 0.8497\n",
            "Epoch 153/200 - Train Running Loss: 40.5077 - Test Loss: 48.8867 - Test Accuracy: 0.8596\n",
            "Epoch 154/200 - Train Running Loss: 39.8686 - Test Loss: 47.8844 - Test Accuracy: 0.8586\n",
            "Epoch 155/200 - Train Running Loss: 38.7579 - Test Loss: 51.7086 - Test Accuracy: 0.8449\n",
            "Epoch 156/200 - Train Running Loss: 62.6021 - Test Loss: 49.0056 - Test Accuracy: 0.8539\n",
            "Epoch 157/200 - Train Running Loss: 37.9865 - Test Loss: 45.8043 - Test Accuracy: 0.8575\n",
            "Epoch 158/200 - Train Running Loss: 35.1956 - Test Loss: 50.8659 - Test Accuracy: 0.8513\n",
            "Epoch 159/200 - Train Running Loss: 36.9810 - Test Loss: 49.1778 - Test Accuracy: 0.8529\n",
            "Epoch 160/200 - Train Running Loss: 375.3283 - Test Loss: 60.4469 - Test Accuracy: 0.7433\n",
            "Epoch 161/200 - Train Running Loss: 199.2975 - Test Loss: 46.1054 - Test Accuracy: 0.8149\n",
            "Epoch 162/200 - Train Running Loss: 124.7172 - Test Loss: 44.1971 - Test Accuracy: 0.8370\n",
            "Epoch 163/200 - Train Running Loss: 86.9389 - Test Loss: 44.4328 - Test Accuracy: 0.8494\n",
            "Epoch 164/200 - Train Running Loss: 71.9991 - Test Loss: 45.5146 - Test Accuracy: 0.8517\n",
            "Epoch 165/200 - Train Running Loss: 56.4731 - Test Loss: 44.5433 - Test Accuracy: 0.8578\n",
            "Epoch 166/200 - Train Running Loss: 45.5082 - Test Loss: 45.4032 - Test Accuracy: 0.8577\n",
            "Epoch 167/200 - Train Running Loss: 39.7125 - Test Loss: 43.9090 - Test Accuracy: 0.8619\n",
            "Epoch 168/200 - Train Running Loss: 35.1232 - Test Loss: 47.3563 - Test Accuracy: 0.8605\n",
            "Epoch 169/200 - Train Running Loss: 31.3146 - Test Loss: 49.0652 - Test Accuracy: 0.8610\n",
            "Epoch 170/200 - Train Running Loss: 29.7002 - Test Loss: 51.2439 - Test Accuracy: 0.8572\n",
            "Epoch 171/200 - Train Running Loss: 30.5482 - Test Loss: 51.7917 - Test Accuracy: 0.8601\n",
            "Epoch 172/200 - Train Running Loss: 28.7017 - Test Loss: 53.4635 - Test Accuracy: 0.8609\n",
            "Epoch 173/200 - Train Running Loss: 31.1082 - Test Loss: 48.2145 - Test Accuracy: 0.8602\n",
            "Epoch 174/200 - Train Running Loss: 29.0120 - Test Loss: 52.8731 - Test Accuracy: 0.8583\n",
            "Epoch 175/200 - Train Running Loss: 29.8414 - Test Loss: 50.7757 - Test Accuracy: 0.8561\n",
            "Epoch 176/200 - Train Running Loss: 31.5160 - Test Loss: 47.9768 - Test Accuracy: 0.8616\n",
            "Epoch 177/200 - Train Running Loss: 31.5288 - Test Loss: 48.7698 - Test Accuracy: 0.8612\n",
            "Epoch 178/200 - Train Running Loss: 31.3329 - Test Loss: 47.8488 - Test Accuracy: 0.8595\n",
            "Epoch 179/200 - Train Running Loss: 32.0570 - Test Loss: 49.5015 - Test Accuracy: 0.8573\n",
            "Epoch 180/200 - Train Running Loss: 33.6624 - Test Loss: 57.2563 - Test Accuracy: 0.8324\n",
            "Epoch 181/200 - Train Running Loss: 37.1866 - Test Loss: 49.5173 - Test Accuracy: 0.8565\n",
            "Epoch 182/200 - Train Running Loss: 33.0469 - Test Loss: 49.5935 - Test Accuracy: 0.8565\n",
            "Epoch 183/200 - Train Running Loss: 32.2714 - Test Loss: 53.3624 - Test Accuracy: 0.8535\n",
            "Epoch 184/200 - Train Running Loss: 32.8845 - Test Loss: 48.1346 - Test Accuracy: 0.8536\n",
            "Epoch 185/200 - Train Running Loss: 32.9324 - Test Loss: 53.4608 - Test Accuracy: 0.8498\n",
            "Epoch 186/200 - Train Running Loss: 35.0558 - Test Loss: 51.6724 - Test Accuracy: 0.8517\n",
            "Epoch 187/200 - Train Running Loss: 33.1299 - Test Loss: 49.2565 - Test Accuracy: 0.8546\n",
            "Epoch 188/200 - Train Running Loss: 31.8630 - Test Loss: 52.3484 - Test Accuracy: 0.8569\n",
            "Epoch 189/200 - Train Running Loss: 32.8594 - Test Loss: 53.0206 - Test Accuracy: 0.8536\n",
            "Epoch 190/200 - Train Running Loss: 31.5604 - Test Loss: 50.7369 - Test Accuracy: 0.8523\n",
            "Epoch 191/200 - Train Running Loss: 30.4145 - Test Loss: 49.8170 - Test Accuracy: 0.8495\n",
            "Epoch 192/200 - Train Running Loss: 30.9084 - Test Loss: 51.1286 - Test Accuracy: 0.8526\n",
            "Epoch 193/200 - Train Running Loss: 30.4758 - Test Loss: 51.6641 - Test Accuracy: 0.8483\n",
            "Epoch 194/200 - Train Running Loss: 30.4703 - Test Loss: 51.7527 - Test Accuracy: 0.8507\n",
            "Epoch 195/200 - Train Running Loss: 30.6494 - Test Loss: 52.9340 - Test Accuracy: 0.8468\n",
            "Epoch 196/200 - Train Running Loss: 30.1346 - Test Loss: 48.9401 - Test Accuracy: 0.8546\n",
            "Epoch 197/200 - Train Running Loss: 29.7223 - Test Loss: 50.4617 - Test Accuracy: 0.8535\n",
            "Epoch 198/200 - Train Running Loss: 27.8227 - Test Loss: 51.3058 - Test Accuracy: 0.8537\n",
            "Epoch 199/200 - Train Running Loss: 30.1988 - Test Loss: 48.2237 - Test Accuracy: 0.8590\n",
            "Epoch 200/200 - Train Running Loss: 29.7086 - Test Loss: 50.9714 - Test Accuracy: 0.8542\n",
            "Training finished.\n"
          ]
        }
      ]
    },
    {
      "cell_type": "code",
      "source": [
        "\n",
        "import matplotlib.pyplot as plt\n",
        "\n",
        "\n",
        "epochs_range = range(1, len(training_loss) + 1)\n",
        "plt.figure(figsize=(16, 5))\n",
        "plt.subplot(1, 2, 1)\n",
        "plt.plot(epochs_range, training_loss, label='Train Loss')\n",
        "plt.plot(epochs_range, testing_loss, label='Test Loss')\n",
        "plt.xlabel('Epochs')\n",
        "plt.ylabel('Loss')\n",
        "plt.title('Training and Test Loss')\n",
        "plt.legend()\n",
        "\n",
        "# Plot Accuracy\n",
        "plt.subplot(1, 2, 2)\n",
        "plt.plot(epochs_range, training_acc, label='Train Accuracy')\n",
        "plt.plot(epochs_range, testing_acc, label='Test Accuracy')\n",
        "plt.xlabel('Epochs')\n",
        "plt.ylabel('Accuracy')\n",
        "plt.title('Training and Test Accuracy')\n",
        "plt.legend()"
      ],
      "metadata": {
        "colab": {
          "base_uri": "https://localhost:8080/",
          "height": 259
        },
        "id": "ciLAEBLkbciw",
        "outputId": "0aff568d-3c12-4532-dd9f-0dcc41fbeaad"
      },
      "execution_count": null,
      "outputs": [
        {
          "output_type": "execute_result",
          "data": {
            "text/plain": [
              "<matplotlib.legend.Legend at 0x7ee1a0476a10>"
            ]
          },
          "metadata": {},
          "execution_count": 64
        },
        {
          "output_type": "display_data",
          "data": {
            "text/plain": [
              "<Figure size 1600x500 with 2 Axes>"
            ],
            "image/png": "[encoded data removed]"
          },
          "metadata": {}
        }
      ]
    },
    {
      "cell_type": "code",
      "source": [
        "resnet.eval()  # Set the model to evaluation mode\n",
        "\n",
        "correct_predictions = 0\n",
        "total_samples = 0\n",
        "\n",
        "with torch.no_grad():\n",
        "\n",
        "    for inputs, labels in test_loader:\n",
        "        inputs, labels = inputs.to(device), labels.to(device)\n",
        "\n",
        "        # Forward pass\n",
        "        outputs = resnet(inputs)\n",
        "\n",
        "        # Get the predicted class\n",
        "        _, predicted = torch.max(outputs, 1)\n",
        "\n",
        "        # Update counts\n",
        "        total_samples += labels.size(0)\n",
        "        correct_predictions += (predicted == labels).sum().item()\n",
        "\n",
        "# Calculate accuracy\n",
        "accuracy = correct_predictions / total_samples\n",
        "print(f\"Accuracy on the testing set: {accuracy * 100:.2f}%\")"
      ],
      "metadata": {
        "colab": {
          "base_uri": "https://localhost:8080/"
        },
        "id": "31TJY7kavRkG",
        "outputId": "0f6ba11e-1c0a-49cf-91dd-4fe178f848b7"
      },
      "execution_count": null,
      "outputs": [
        {
          "output_type": "stream",
          "name": "stdout",
          "text": [
            "Accuracy on the testing set: 85.42%\n"
          ]
        }
      ]
    },
    {
      "cell_type": "code",
      "source": [
        "resnet.eval()  # Set the model to evaluation mode\n",
        "\n",
        "correct_predictions = 0\n",
        "total_samples = 0\n",
        "\n",
        "with torch.no_grad():\n",
        "\n",
        "    for inputs, labels in train_loader:\n",
        "        inputs, labels = inputs.to(device), labels.to(device)\n",
        "\n",
        "        # Forward pass\n",
        "        outputs = resnet(inputs)\n",
        "\n",
        "        # Get the predicted class\n",
        "        _, predicted = torch.max(outputs, 1)\n",
        "\n",
        "        # Update counts\n",
        "        total_samples += labels.size(0)\n",
        "        correct_predictions += (predicted == labels).sum().item()\n",
        "\n",
        "# Calculate accuracy\n",
        "accuracy = correct_predictions / total_samples\n",
        "print(f\"Accuracy on the testing set: {accuracy * 100:.2f}%\")"
      ],
      "metadata": {
        "colab": {
          "base_uri": "https://localhost:8080/"
        },
        "id": "Eq3-cvUc90fy",
        "outputId": "62629d4b-8cf8-4dec-ae0f-a41b1b801892"
      },
      "execution_count": null,
      "outputs": [
        {
          "output_type": "stream",
          "name": "stdout",
          "text": [
            "Accuracy on the testing set: 97.86%\n"
          ]
        }
      ]
    },
    {
      "cell_type": "code",
      "source": [],
      "metadata": {
        "id": "4tzjYluZgcSP"
      },
      "execution_count": null,
      "outputs": []
    },
    {
      "cell_type": "markdown",
      "source": [
        "Regular ResNet\\\n",
        "on testing set\\\n",
        "100 epochs 86.06% acc\\\n",
        "200 epochs 85.31% acc\n",
        "\n",
        "on training set\\\n",
        "200 epochs 97.74% acc"
      ],
      "metadata": {
        "id": "WVYjTtb4gcfR"
      }
    },
    {
      "cell_type": "code",
      "source": [],
      "metadata": {
        "id": "WheB5EM8u5U1"
      },
      "execution_count": null,
      "outputs": []
    }
  ]
}